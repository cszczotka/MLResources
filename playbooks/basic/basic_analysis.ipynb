{
 "cells": [
  {
   "cell_type": "code",
   "execution_count": 1,
   "id": "3cd6402b-41a6-4a6e-9bbd-8a04a666352b",
   "metadata": {},
   "outputs": [],
   "source": [
    "import numpy\n",
    "import pandas\n",
    "from matplotlib import pyplot as plt\n",
    "#region Making Printing more visible\n",
    "from pandas.plotting._matplotlib import scatter_matrix\n",
    "\n",
    "pandas.set_option('display.max_columns', None)\n",
    "pandas.set_option('display.max_rows', None)\n",
    "#endregion"
   ]
  },
  {
   "cell_type": "code",
   "execution_count": 5,
   "id": "51bac14f-7636-429d-956f-d4c185499623",
   "metadata": {},
   "outputs": [],
   "source": [
    "#region Loading Our Data\n",
    "filename='dataset/forestfires.csv'\n",
    "names = ['X', 'Y', 'month', 'day', 'FFMC', 'DMC',\n",
    "         'DC', 'ISI', 'temp', 'RH', 'wind','rain', 'area']\n",
    "df= pandas.read_csv(filename,names=names)\n",
    "#endregion\n"
   ]
  },
  {
   "cell_type": "code",
   "execution_count": null,
   "id": "678f942c-4c67-47b7-8ff4-eec471d89352",
   "metadata": {},
   "outputs": [],
   "source": [
    "#region Analyzing Our Data\n",
    "#print(pandas.isnull(df))\n",
    "print(\"**************Data Shape**************\")\n",
    "print(df.shape)\n",
    "print(\"**************Data Types**************\")\n",
    "print(df.dtypes)\n",
    "print(\"**************Inspecting the head of the data**************\")\n",
    "print(df.head(1))\n",
    "df.month.replace(('jan','feb','mar','apr','may','jun','jul','aug','sep','oct','nov','dec'),(1,2,3,4,5,6,7,8,9,10,11,12), inplace=True)\n",
    "df.day.replace(('mon','tue','wed','thu','fri','sat','sun'),(1,2,3,4,5,6,7), inplace=True)\n",
    "print(\"**************Inspecting the head of the data after replacement**************\")\n",
    "print(df.head(1))\n",
    "print(\"**************Data Types Again**************\")\n",
    "print(df.dtypes)\n",
    "print(\"**************Data Stats**************\")\n",
    "print(df.describe())\n",
    "print(\"**************Correlation**************\")\n",
    "print(df.corr(method='pearson'))\n",
    "#endregion"
   ]
  },
  {
   "cell_type": "code",
   "execution_count": null,
   "id": "d50ef0d9-070c-4af1-a201-7d80379c4a1f",
   "metadata": {},
   "outputs": [],
   "source": [
    "#region Visualzing Our data\n",
    "#region Univariant\n",
    "# histograms\n",
    "df.hist(sharex=False, sharey=False, xlabelsize=3, ylabelsize=3)\n",
    "plt.suptitle(\"Histograms\",y=1.00,fontweight='bold')\n",
    "plt.show()\n",
    "# density\n",
    "df.plot(kind='density', subplots=True, layout=(4,4), sharex=False,\n",
    "fontsize=8)\n",
    "plt.suptitle(\"Density\",y=1.00,fontweight='bold')\n",
    "plt.show()\n",
    "# box and whisker plots\n",
    "df.plot(kind='box', subplots=False, layout=(4,4), sharex=False, sharey=False,\n",
    "fontsize=12)\n",
    "plt.suptitle(\"Box and Whisker\",y=1.00,fontweight='bold')\n",
    "plt.show()\n",
    "#endregion\n",
    "#region Bivariant\n",
    "# scatter plot matrix\n",
    "scatter_matrix(df)\n",
    "plt.suptitle(\"Scatter Matrix\",y=1.00,fontweight='bold')\n",
    "plt.show()\n",
    "# correlation matrix\n",
    "fig = plt.figure()\n",
    "ax = fig.add_subplot(111)\n",
    "cax = ax.matshow(df.corr(), vmin=-1, vmax=1, interpolation='none')\n",
    "fig.colorbar(cax)\n",
    "ticks = numpy.arange(0,13,1)\n",
    "ax.set_xticks(ticks)\n",
    "ax.set_yticks(ticks)\n",
    "ax.set_xticklabels(names)\n",
    "ax.set_yticklabels(names)\n",
    "plt.suptitle(\"Correlation Matrix\",y=1.00,fontweight='bold')\n",
    "plt.show()\n",
    "#endregion\n",
    "#endregion"
   ]
  }
 ],
 "metadata": {
  "kernelspec": {
   "display_name": "Python 3",
   "language": "python",
   "name": "python3"
  },
  "language_info": {
   "codemirror_mode": {
    "name": "ipython",
    "version": 3
   },
   "file_extension": ".py",
   "mimetype": "text/x-python",
   "name": "python",
   "nbconvert_exporter": "python",
   "pygments_lexer": "ipython3",
   "version": "3.9.1"
  }
 },
 "nbformat": 4,
 "nbformat_minor": 5
}
