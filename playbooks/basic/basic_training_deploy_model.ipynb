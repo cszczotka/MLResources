{
 "cells": [
  {
   "cell_type": "code",
   "execution_count": null,
   "id": "d7d04e6b-3045-44e7-af36-3b4398dceace",
   "metadata": {},
   "outputs": [],
   "source": [
    "import warnings\n",
    "import pandas\n",
    "\n",
    "from sklearn.linear_model import LinearRegression, ElasticNet, Lasso, Ridge\n",
    "from sklearn.neighbors import KNeighborsRegressor\n",
    "from sklearn.svm import SVR\n",
    "from sklearn.tree import DecisionTreeRegressor\n",
    "from sklearn.model_selection import train_test_split, KFold, cross_val_score\n",
    "\n",
    "#region Making Printing more visible\n",
    "warnings.filterwarnings('ignore')\n",
    "pandas.set_option('display.max_columns', None)\n",
    "pandas.set_option('display.max_rows', None)\n",
    "#endregion\n",
    "#region Loading Our Data\n",
    "filename='dataset/forestfires.csv'\n",
    "names = ['X', 'Y', 'month', 'day', 'FFMC', 'DMC',\n",
    "         'DC', 'ISI', 'temp', 'RH', 'wind','rain', 'area']\n",
    "df= pandas.read_csv(filename,names=names)\n",
    "#endregion\n",
    "# region Preparing Data\n",
    "df.month.replace(('jan','feb','mar','apr','may','jun','jul','aug','sep','oct','nov','dec'),(1,2,3,4,5,6,7,8,9,10,11,12), inplace=True)\n",
    "df.day.replace(('mon','tue','wed','thu','fri','sat','sun'),(1,2,3,4,5,6,7), inplace=True)\n",
    "array = df.values\n",
    "X = array[:,0:12]\n",
    "Y = array[:,12]\n",
    "#endregion\n"
   ]
  },
  {
   "cell_type": "code",
   "execution_count": null,
   "id": "8cfdc49a-9afa-4908-931d-43998984d0f4",
   "metadata": {},
   "outputs": [],
   "source": [
    "# region Folds and Scoring\n",
    "num_folds = 10\n",
    "seed = 7\n",
    "scoring = 'max_error'\n",
    "scoring2 = 'neg_mean_absolute_error'\n",
    "scoring3 = 'r2'\n",
    "scoring4 = 'neg_mean_squared_error'\n",
    "#endregion\n"
   ]
  },
  {
   "cell_type": "code",
   "execution_count": null,
   "id": "a2d56eb0-19a4-46a9-9260-d88306863df4",
   "metadata": {},
   "outputs": [],
   "source": [
    "# region Spot-Check preliminary algorithms\n",
    "models = []\n",
    "models.append(('LR', LinearRegression())) #\n",
    "models.append(('LASSO', Lasso())) #\n",
    "models.append(('EN', ElasticNet())) #\n",
    "models.append(('Ridge', Ridge())) #\n",
    "\n",
    "models.append(('KNN', KNeighborsRegressor())) #\n",
    "models.append(('CART', DecisionTreeRegressor())) #\n",
    "models.append(('SVR', SVR())) #\n",
    "#endregion\n"
   ]
  },
  {
   "cell_type": "code",
   "execution_count": null,
   "id": "35de199a-151d-4a60-b630-625c6bdb1c5a",
   "metadata": {},
   "outputs": [],
   "source": [
    "# Evaluate models and print results\n",
    "results = []\n",
    "names = []\n",
    "for name, model in models:\n",
    "    kfold = KFold(n_splits=num_folds, random_state=seed, shuffle=True)\n",
    "    cv_results = cross_val_score(model, X, Y, cv=kfold, scoring=scoring)\n",
    "    cv_results2 = cross_val_score(model, X, Y, cv=kfold, scoring=scoring2)\n",
    "    cv_results3 = cross_val_score(model, X, Y, cv=kfold, scoring=scoring3)\n",
    "    cv_results4 = cross_val_score(model, X, Y, cv=kfold, scoring=scoring4)\n",
    "    msg = \"%s: max error: %f , mean absolute error: %f, r2: %f, mean squared error: %f\" % (name, cv_results.mean(),\n",
    "                    -cv_results2.mean(),cv_results3.mean(),-cv_results4.mean())\n",
    "    print(msg)"
   ]
  },
  {
   "cell_type": "code",
   "execution_count": null,
   "id": "eb6e41f1-2298-4aae-9230-1bface2e4a6c",
   "metadata": {},
   "outputs": [],
   "source": [
    "X_train, X_test, Y_train, Y_test = train_test_split(X, Y, test_size=0.20, random_state=1, shuffle=True)"
   ]
  },
  {
   "cell_type": "code",
   "execution_count": null,
   "id": "f33a6bd1-823b-43db-b633-0815a058bfa1",
   "metadata": {},
   "outputs": [],
   "source": [
    "lasso_model = Lasso()\n",
    "lasso_model.fit(X_train, Y_train)"
   ]
  },
  {
   "cell_type": "code",
   "execution_count": null,
   "id": "3ea5aeb7-d432-49c1-9d01-19e6fcb59905",
   "metadata": {},
   "outputs": [],
   "source": [
    "predictions = lasso_model.predict(X_test)\n",
    "print(predictions)"
   ]
  },
  {
   "cell_type": "code",
   "execution_count": null,
   "id": "e37c5a4c-5176-43d3-a138-6b29a7b020c2",
   "metadata": {},
   "outputs": [],
   "source": [
    "import pickle\n",
    "pickle.dump(lasso_model, open('model.pkl', 'wb'))\n",
    "model = pickle.load(open('model.pkl', 'rb'))"
   ]
  },
  {
   "cell_type": "code",
   "execution_count": null,
   "id": "2677d042-8a35-43a6-b5c9-89bec2e9f27d",
   "metadata": {},
   "outputs": [],
   "source": [
    "from flask import Flask, request\n",
    "from flask_ngrok import run_with_ngrok\n",
    "import requests\n",
    "import numpy as np\n",
    "app = Flask(__name__)\n",
    "run_with_ngrok(app)"
   ]
  },
  {
   "cell_type": "code",
   "execution_count": null,
   "id": "f03b5887-c40b-4e1f-8bd8-4b4578e38db5",
   "metadata": {},
   "outputs": [],
   "source": [
    "@app.route('/predict', methods=['POST'])\n",
    "def home():\n",
    "    X = int(requests.args.get('X', ''))\n",
    "    Y = int(requests.args.get('Y', ''))\n",
    "    month = int(requests.args.get('month', ''))\n",
    "    day = int(requests.args.get('day', ''))\n",
    "    FFMC = float(requests.args.get('FFMC', ''))\n",
    "    DMC = float(requests.args.get('DMC', ''))\n",
    "    DC = float(requests.args.get('DC', ''))\n",
    "    ISI = float(requests.args.get('ISI', ''))\n",
    "    temp = float(requests.args.get('temp', ''))\n",
    "    RH = float(requests.args.get('RH', ''))\n",
    "    wind = float(requests.args.get('wind', ''))\n",
    "    rain = float(requests.args.get('rain', ''))\n",
    "    prediction = lasso_model.predict([[X, Y, month, day, FFMC, DMC, DC, ISI, temp, RH, wind, rain]])\n",
    "    print(prediction)\n",
    "    print('Prediciton is ' + str(prediciton[0]))\n",
    "app.run()"
   ]
  }
 ],
 "metadata": {
  "kernelspec": {
   "display_name": "Python 3",
   "language": "python",
   "name": "python3"
  },
  "language_info": {
   "codemirror_mode": {
    "name": "ipython",
    "version": 3
   },
   "file_extension": ".py",
   "mimetype": "text/x-python",
   "name": "python",
   "nbconvert_exporter": "python",
   "pygments_lexer": "ipython3",
   "version": "3.9.1"
  }
 },
 "nbformat": 4,
 "nbformat_minor": 5
}
