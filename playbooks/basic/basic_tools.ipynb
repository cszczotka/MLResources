{
 "cells": [
  {
   "cell_type": "code",
   "execution_count": null,
   "id": "3e1109a0-4e3b-49f2-b520-5ea82c218fe8",
   "metadata": {},
   "outputs": [],
   "source": [
    "import numpy\n",
    "pythonArray = [[1, 2, 3],[9,8,7]]\n",
    "npArray = numpy.array(pythonArray)\n",
    "print(npArray.shape)\n",
    "print(npArray[0])\n",
    "print(npArray[:,1])"
   ]
  },
  {
   "cell_type": "code",
   "execution_count": null,
   "id": "b75ea7a1-358d-4036-894f-e5d6dbf13374",
   "metadata": {},
   "outputs": [],
   "source": [
    "import matplotlib.pyplot as plt\n",
    "plt.plot([1,2,3,4],[5,10,15,20])\n",
    "plt.title(\"Linear relationship\", fontsize=20)\n",
    "plt.xlabel(\"X Axis\", fontsize=10)\n",
    "plt.ylabel(\"Y Axis\", fontsize=10)\n",
    "plt.show()"
   ]
  },
  {
   "cell_type": "code",
   "execution_count": null,
   "id": "7147438d-b350-4b51-8f92-51a0262c172a",
   "metadata": {},
   "outputs": [],
   "source": [
    "import pandas as pd\n",
    "data =  {\n",
    "    'cars': [5, 4, 1, 7], #series'cars'\n",
    "    'boats': [2, 6, 0, 2] #series'boats'\n",
    "}\n",
    "vehicles = pd.DataFrame(data, \n",
    "index=['Peter', 'Sara', 'Ali', 'John'])\n",
    "print(vehicles.info())\n",
    "print(vehicles.loc['Ali'])\n",
    "print(vehicles.head())\n",
    "\n"
   ]
  },
  {
   "cell_type": "code",
   "execution_count": null,
   "id": "42a724b0-c8a1-47d3-b0e2-61ab6c04799a",
   "metadata": {},
   "outputs": [],
   "source": [
    "import pandas\n",
    "import os \n",
    "print(os.getcwd() + \"\\n\")\n",
    " \n",
    "filename='dataset/forestfires.csv'\n",
    "names = ['X', 'Y', 'month', 'day', 'FFMC', 'DMC',\n",
    "         'DC', 'ISI', 'temp', 'RH', 'wind','rain', 'area']\n",
    "df= pandas.read_csv(filename,names=names)\n",
    "print(pandas.isnull(df).sum())\n",
    "print(pandas.isnull(df))"
   ]
  }
 ],
 "metadata": {
  "kernelspec": {
   "display_name": "Python 3",
   "language": "python",
   "name": "python3"
  },
  "language_info": {
   "codemirror_mode": {
    "name": "ipython",
    "version": 3
   },
   "file_extension": ".py",
   "mimetype": "text/x-python",
   "name": "python",
   "nbconvert_exporter": "python",
   "pygments_lexer": "ipython3",
   "version": "3.9.1"
  }
 },
 "nbformat": 4,
 "nbformat_minor": 5
}
