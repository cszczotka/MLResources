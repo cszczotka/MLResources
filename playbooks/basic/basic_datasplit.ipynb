{
 "cells": [
  {
   "cell_type": "code",
   "execution_count": null,
   "id": "4f54b445-1458-4c73-965c-2b50f4667ef4",
   "metadata": {},
   "outputs": [],
   "source": [
    "from sklearn.model_selection import train_test_split\n",
    "from sklearn.model_selection import KFold\n",
    "import numpy as np\n",
    "print('***KFold Split***')\n",
    "dataset=range(16) # array from 0 to 15\n",
    "KFCrossValidator = KFold(n_splits=4, shuffle=False)\n",
    "KFdataset = KFCrossValidator.split(dataset)\n",
    "print('{} {:^61} {}'.format('Round', 'Training set', 'Testing set'))\n",
    "for iteration, data in enumerate(KFdataset, start=1):\n",
    "    print('{:^9} {} {:^25}'.format(iteration, data[0], str(data[1])))"
   ]
  },
  {
   "cell_type": "code",
   "execution_count": null,
   "id": "0604b95e-499e-4538-baaa-e51bf4d24b4a",
   "metadata": {},
   "outputs": [],
   "source": [
    "X, y = np.arange(10).reshape((5,2)), range(5)\n",
    "print(X)\n",
    "print(y)\n",
    "X_train, X_test, y_train, y_test = train_test_split(X, y, test_size=0.3, random_state=42)"
   ]
  }
 ],
 "metadata": {
  "kernelspec": {
   "display_name": "Python 3",
   "language": "python",
   "name": "python3"
  },
  "language_info": {
   "codemirror_mode": {
    "name": "ipython",
    "version": 3
   },
   "file_extension": ".py",
   "mimetype": "text/x-python",
   "name": "python",
   "nbconvert_exporter": "python",
   "pygments_lexer": "ipython3",
   "version": "3.9.1"
  }
 },
 "nbformat": 4,
 "nbformat_minor": 5
}
